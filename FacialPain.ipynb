{
 "cells": [
  {
   "cell_type": "markdown",
   "metadata": {
    "id": "AW3PQF7-bklu"
   },
   "source": [
    "# Facial Pain Analyses\n",
    "\n",
    "This notebook contains code for performing descriptive and ML-based analyses of demographics and clinical characteristics. The data was pulled from patients who were seen between 2013-2024 and had completed the clinical questionnaires of interest (Columbia-Suicide Severity Rating Scale and Brief Pain Inventory-Facial). \n",
    "\n",
    "---\n",
    "> Justin Campbell, PhD (justin.campbell@hsc.utah.edu)  \n",
    "> Version: 07/04/25"
   ]
  },
  {
   "cell_type": "markdown",
   "metadata": {
    "id": "WIFiVsMXbwSq"
   },
   "source": [
    "## Setup Notebook"
   ]
  },
  {
   "cell_type": "code",
   "execution_count": null,
   "metadata": {
    "id": "fPldcqxUb69c"
   },
   "outputs": [],
   "source": [
    "import os\n",
    "import glob\n",
    "import numpy as np\n",
    "import pandas as pd\n",
    "import matplotlib.pyplot as plt\n",
    "import seaborn as sns\n",
    "from scipy import stats\n",
    "from matplotlib.patches import Rectangle\n",
    "from scipy.stats import chi2_contingency, levene\n",
    "from sklearn.cluster import KMeans\n",
    "from sklearn.pipeline import make_pipeline\n",
    "from sklearn.preprocessing import StandardScaler, OneHotEncoder\n",
    "from sklearn.compose import ColumnTransformer\n",
    "from sklearn.decomposition import PCA\n",
    "from sklearn.model_selection import train_test_split\n",
    "from sklearn.pipeline import Pipeline\n",
    "from sklearn.linear_model import LogisticRegression\n",
    "from sklearn.metrics import classification_report, silhouette_score, roc_auc_score, roc_curve, precision_recall_curve\n",
    "from sklearn.manifold import TSNE\n",
    "from sklearn.model_selection import cross_val_score\n",
    "from imblearn.over_sampling import SMOTE\n",
    "from imblearn.pipeline import Pipeline as ImbPipeline"
   ]
  },
  {
   "cell_type": "code",
   "execution_count": null,
   "metadata": {},
   "outputs": [],
   "source": [
    "# Notebook settings\n",
    "%matplotlib inline\n",
    "%config InlineBackend.figure_format = 'retina'"
   ]
  },
  {
   "cell_type": "markdown",
   "metadata": {
    "id": "JPw0C7RHbyLz"
   },
   "source": [
    "## 1. Import Data"
   ]
  },
  {
   "cell_type": "code",
   "execution_count": null,
   "metadata": {
    "id": "3VAN-webgPKO"
   },
   "outputs": [],
   "source": [
    "# Set directories\n",
    "proj_dir = '/Users/justincampbell/Library/CloudStorage/GoogleDrive-u0815766@gcloud.utah.edu/My Drive/Research Projects/FacialPain'\n",
    "data_dir = os.path.join(proj_dir, 'Data')"
   ]
  },
  {
   "cell_type": "code",
   "execution_count": null,
   "metadata": {
    "colab": {
     "base_uri": "https://localhost:8080/",
     "height": 338
    },
    "id": "ZluKh38Nb7YH",
    "outputId": "ad37beef-ac64-4547-e258-9ece4fbaa48a"
   },
   "outputs": [],
   "source": [
    "# Load the data\n",
    "df = pd.read_csv(os.path.join(data_dir, 'TN Dataset 041725.csv'))"
   ]
  },
  {
   "cell_type": "markdown",
   "metadata": {
    "id": "mzuFKraq71Md"
   },
   "source": [
    "### 1.1 Data Cleaning"
   ]
  },
  {
   "cell_type": "code",
   "execution_count": null,
   "metadata": {
    "id": "luOiSiNy71Me"
   },
   "outputs": [],
   "source": [
    "# Re-map the ICD codes to a more manageable format\n",
    "ICD_map = {'ATYPICAL FACIAL PAIN': 'AFP',\n",
    "        'ATYPICAL FACE PAIN': 'AFP',\n",
    "        'CLONIC HEMIFACIAL SPASM': 'HFS',\n",
    "        'MULTIPLE SCLEROSIS': 'MS',\n",
    "        'TRIGEMINAL NEURALGIA': 'TN',\n",
    "        'CHRONIC PAIN DUE TO TRAUMA': 'Posttraumatic',\n",
    "        'POSTHERPETIC TRIGEMINAL NEURALGIA': 'PHTN',\n",
    "        'OTH TRIGEMINAL AUTONOM CEPHALGIAS INTRACTABLE ': 'Other',\n",
    "        'OTH TRIGEMINAL AUTONOM CEPHALGIAS NOT INTRACT': 'Other',\n",
    "        'OTHER TRIGEMINAL AUTONOM CEPHALGIAS ': 'Other',\n",
    "        'OTHER DISORDERS OF TRIGEMINAL NERVE': 'Other',\n",
    "        'OTHER SPECIFIED TRIGEMINAL NERVE DISORDERS': 'Other',\n",
    "        'OTHER FACIAL NERVE DISORDERS': 'Other'}\n",
    "df['ICD_Clean'] = df['D_ICD_DESC'].map(ICD_map)\n",
    "df['ICD_TN'] = df['ICD_Clean'].apply(lambda x: 1 if x == 'TN' else 0)\n",
    "\n",
    "# Re-map C-SRSS to a more manageable format\n",
    "CSRSS_map = {'No': 0, 'Yes': 1}\n",
    "df['CSRSS_Thoughts'] = df['IP_R_NEU_CSSRS_SUICIDAL_THOUGHTS'].map(CSRSS_map)\n",
    "df['CSRSS_Behaviors'] = df['IP_R_SW_CSSRS_SUICIDAL_BEHAVIOR'].map(CSRSS_map)"
   ]
  },
  {
   "cell_type": "code",
   "execution_count": null,
   "metadata": {},
   "outputs": [],
   "source": [
    "# Restructure CSRSS data\n",
    "df['CSRSS_Either'] = df[['CSRSS_Thoughts', 'CSRSS_Behaviors']].sum(axis=1, skipna=True)\n",
    "df['CSRSS_Either'] = df['CSRSS_Either'].apply(lambda x: 1 if x > 0 else 0)"
   ]
  },
  {
   "cell_type": "markdown",
   "metadata": {
    "id": "PVtry8Nsb3bI"
   },
   "source": [
    "## 2. Descriptive Analyses"
   ]
  },
  {
   "cell_type": "markdown",
   "metadata": {
    "id": "1bIfd4vVhVGv"
   },
   "source": [
    "### 2.1 Demographics"
   ]
  },
  {
   "cell_type": "code",
   "execution_count": null,
   "metadata": {
    "id": "vON3Oj9UhUiK"
   },
   "outputs": [],
   "source": [
    "# Unique patients\n",
    "n_patients = len(df['PAT_ID'].unique())\n",
    "\n",
    "# Age (at admission)\n",
    "df['ADM_DATE'] = pd.to_datetime(df['ADM_DATE'], format = \"%m/%d/%y\")\n",
    "df['AGE'] = df['age']\n",
    "\n",
    "# Sex\n",
    "n_female = len(df[df['D_GENDER_DESC'] == 'Female'])\n",
    "\n",
    "# Race\n",
    "race_counts = df['D_RACE_DESC'].value_counts().to_string()\n",
    "\n",
    "# Ethnicity\n",
    "ethnicity_counts = df['D_ETHNICITY_DESC'].value_counts().to_string()\n",
    "\n",
    "# Insurance status\n",
    "insurance_counts = df['D_FINAN_CLASS_DESC'].value_counts().to_string()\n",
    "\n",
    "# ICD Dx\n",
    "dx_counts = df['ICD_Clean'].value_counts().to_string()\n",
    "\n",
    "# Burden of illness\n",
    "df['Onset_Clean'] = pd.to_datetime(df['Onset_Clean'], format = \"%m/%d/%y\")\n",
    "df['Duration'] = (df['ADM_DATE'] - df['Onset_Clean']).dt.days\n",
    "df['Duration_Yrs'] = df['Duration'] / 365.25\n"
   ]
  },
  {
   "cell_type": "code",
   "execution_count": null,
   "metadata": {
    "colab": {
     "base_uri": "https://localhost:8080/"
    },
    "id": "b3cR_9S2h_0K",
    "outputId": "b0b2fb7e-3525-4225-c161-c833e93f1f7e"
   },
   "outputs": [],
   "source": [
    "# Display descriptives\n",
    "print('Descriptives Summmary:')\n",
    "print('\\n')\n",
    "\n",
    "print('# Entries: %i' %df.shape[0])\n",
    "print('# Unique Patients: %i' %n_patients)\n",
    "print('# Females: %i (%.1f%%)' %(n_female, (n_female/n_patients)*100))\n",
    "print('Mean (SD) Age: %.1f years (±%.1f), Range: %.1f-%.1f' %(df['AGE'].mean(), df['AGE'].std(), df['AGE'].min(), df['AGE'].max()))\n",
    "print('Date Range: %s - %s' %(df['ADM_DATE'].min().strftime('%m/%d/%Y'), df['ADM_DATE'].max().strftime('%m/%d/%Y')))\n",
    "print('\\n')\n",
    "\n",
    "print('Race:')\n",
    "print(race_counts)\n",
    "print('\\n')\n",
    "\n",
    "print('Ethnicity:')\n",
    "print(ethnicity_counts)\n",
    "print('\\n')\n",
    "\n",
    "print('Insurance Status:')\n",
    "print(insurance_counts)\n",
    "print('\\n')\n",
    "\n",
    "print('ICD Diagnosis:')\n",
    "print(dx_counts)\n",
    "print('\\n')\n",
    "\n",
    "print('Burden of Illness:')\n",
    "print('Median (IQR) Duration: %.1f (%.1f-%.1f) years' %(df['Duration_Yrs'].median(), df['Duration_Yrs'].quantile(0.25), df['Duration_Yrs'].quantile(0.75)))"
   ]
  },
  {
   "cell_type": "markdown",
   "metadata": {},
   "source": [
    "### 2.2 C-SRSS Responses"
   ]
  },
  {
   "cell_type": "code",
   "execution_count": null,
   "metadata": {
    "colab": {
     "base_uri": "https://localhost:8080/"
    },
    "id": "9J61ryoNxTYm",
    "outputId": "ce1a8373-fbb3-4659-9a66-fd0674528c13"
   },
   "outputs": [],
   "source": [
    "# Subset patients who responded to either suicidal behavior or suicidal thoughts question\n",
    "CSSRS_behavior = df[~df['IP_R_SW_CSSRS_SUICIDAL_BEHAVIOR'].isna()]\n",
    "CSSRS_thoughts = df[~df['IP_R_NEU_CSSRS_SUICIDAL_THOUGHTS'].isna()]\n",
    "CSRSS_either = df[~df['CSRSS_Either'].isna()]\n",
    "\n",
    "# Display patients w/ suicidal behavior or thoughts\n",
    "print(df['CSRSS_Behaviors'].value_counts().to_string())\n",
    "print('Proportion: %.1f%%' %(df['CSRSS_Behaviors'].mean()*100))\n",
    "print('\\n')\n",
    "\n",
    "print(df['CSRSS_Thoughts'].value_counts().to_string())\n",
    "print('Proportion: %.1f%%' %(df['CSRSS_Thoughts'].mean()*100))\n",
    "print('\\n')\n",
    "\n",
    "print(df['CSRSS_Either'].value_counts().to_string())\n",
    "print('Proportion: %.1f%%' %(df['CSRSS_Either'].mean()*100))"
   ]
  },
  {
   "cell_type": "code",
   "execution_count": null,
   "metadata": {},
   "outputs": [],
   "source": [
    "# Run Chi-square test for independence (gender x CSRSS-either)\n",
    "csrss_counts_gender = df.groupby('D_GENDER_DESC')['CSRSS_Either'].value_counts().values\n",
    "csrss_counts_gender = csrss_counts_gender.reshape(2, 2)\n",
    "chi2, p, dof, expected = chi2_contingency(csrss_counts_gender)\n",
    "print('Gender x CSRSS-Either')\n",
    "print('Chi2: %.3f, p = %.3f' %(chi2, p))\n",
    "print('')\n",
    "\n",
    "# Run Chi-square test for independence (ICD-TN x CSRSS-either)\n",
    "csrss_counts_tn = df.groupby('ICD_TN')['CSRSS_Either'].value_counts().values\n",
    "csrss_counts_tn = csrss_counts_tn.reshape(2, 2)\n",
    "chi2, p, dof, expected = chi2_contingency(csrss_counts_tn)\n",
    "print('ICD-TN x CSRSS-Either')\n",
    "print('Chi2: %.3f, p = %.3f' %(chi2, p))"
   ]
  },
  {
   "cell_type": "markdown",
   "metadata": {},
   "source": [
    "### 2.3 BPI-Facial Responses"
   ]
  },
  {
   "cell_type": "code",
   "execution_count": null,
   "metadata": {},
   "outputs": [],
   "source": [
    "# BPI-Facial cols\n",
    "amb_painintensity = ['CIRCLE_THE_ONE_NUMBER_THAT_DESCRIBES_YOUR_PAIN_RIGHT_NOW','AMB_NSR_R_PAIN_AT_ITS_WORST_IN_LAST_WEEK','AMB_NSR_R_PAIN_AT_ITS_LEAST_IN_LAST_WEEK', 'AMB_NSR_R_PAIN_AT_ITS_AVERAGE_IN_LAST_WEEK']\n",
    "amb_interference = ['AMB_NSR_R_GENERAL_ACTIVITY', 'AMB_NSR_R_MOOD', 'AMB_NSR_R_NORMAL_WORK', 'AMB_NSR_R_RELATIONS_WITH_OTHER_PEOPLE','AMB_NSR_R_SLEEP', 'AMB_NSR_R_ENJOYMENT_OF_LIFE', 'ABM_NSR_R_WALKING_ABILITY']\n",
    "amb_specific = ['AMB_NSR_R_EATING_A_MEAL', 'AMB_NSR_R_TOUCHING_YOUR_FACE', 'AMB_NSR_R_BRUSHING_OR_FLOSSING_YOUR_TEETH', 'AMB_NSR_R_SMILING_OR_LAUGHING', 'AMB_NSR_R_TALKING', 'AMB_NSR_R_OPENING_YOUR_MOUTH_WIDELY','AMB_NSR_R_EATING_HARD_FOODS_LIKE_APPLES']\n",
    "amb_any = amb_painintensity + amb_interference + amb_specific + ['AMB_NSR_R_BRIEF_PAIN_INVENTORY_FACIAL_SCORE']\n",
    "\n",
    "# Get BPI-Facial total scores\n",
    "amb_df = df[amb_any].copy()\n",
    "amb_df_missing = amb_df[amb_df.isnull().any(axis=1)].index # flag any rows missing data in one of the BPI-Facial columns\n",
    "amb_df = amb_df.drop(amb_df_missing) # drop rows with missing data\n",
    "amb_total_scores = amb_df['AMB_NSR_R_BRIEF_PAIN_INVENTORY_FACIAL_SCORE']\n",
    "\n",
    "# Get domain average over columns/questions\n",
    "amb_painintensity_df = amb_df[amb_painintensity].copy()\n",
    "amb_painintensity_df = amb_painintensity_df.mean(axis = 1, skipna = True)\n",
    "\n",
    "amb_interference_df = amb_df[amb_interference].copy()\n",
    "amb_interference_df = amb_interference_df.mean(axis = 1, skipna = True)\n",
    "\n",
    "amb_specific_df = amb_df[amb_specific].copy()\n",
    "amb_specific_df = amb_specific_df.mean(axis = 1, skipna = True)\n",
    "\n",
    "# Get suicidal ideation status\n",
    "is_sui = df.copy()\n",
    "is_sui = is_sui.drop(amb_df_missing)\n",
    "is_sui = is_sui['CSRSS_Either'].values\n",
    "\n",
    "# Get TN status\n",
    "is_tn = df.copy()\n",
    "is_tn = is_tn.drop(amb_df_missing)\n",
    "is_tn = is_tn['ICD_TN'].values"
   ]
  },
  {
   "cell_type": "code",
   "execution_count": null,
   "metadata": {},
   "outputs": [],
   "source": [
    "# report mean ± SD for each BPI-Facial domain\n",
    "amb_painintensity_df = amb_painintensity_df.dropna()\n",
    "amb_interference_df = amb_interference_df.dropna()\n",
    "amb_specific_df = amb_specific_df.dropna()\n",
    "\n",
    "print('BPI-Facial Scores (Combined):')\n",
    "print('Pain Intensity: %.1f (± %.1f)' %(amb_painintensity_df.mean(), amb_painintensity_df.std()))\n",
    "print('Interference (General): %.1f (± %.1f)' %(amb_interference_df.mean(), amb_interference_df.std()))\n",
    "print('Interference (Face-Specific): %.1f (± %.1f)' %(amb_specific_df.mean(), amb_specific_df.std()))\n",
    "print('Total: %.1f (± %.1f)' %(amb_total_scores.mean(), amb_total_scores.std()))"
   ]
  },
  {
   "cell_type": "code",
   "execution_count": null,
   "metadata": {},
   "outputs": [],
   "source": [
    "# Calculate BPI-Facial domain scores, split by CSRSS_Either, test for significance\n",
    "painintensity_sui = amb_painintensity_df[is_sui == 1].values\n",
    "painintensity_notsui = amb_painintensity_df[is_sui == 0].values\n",
    "interference_sui = amb_interference_df[is_sui == 1].values\n",
    "interference_notsui = amb_interference_df[is_sui == 0].values\n",
    "specific_sui = amb_specific_df[is_sui == 1].values\n",
    "specific_notsui = amb_specific_df[is_sui == 0].values\n",
    "\n",
    "# Test for homogeneity of variance\n",
    "painintensity_var = stats.levene(painintensity_sui, painintensity_notsui)\n",
    "interference_var = stats.levene(interference_sui, interference_notsui)\n",
    "specific_var = stats.levene(specific_sui, specific_notsui)\n",
    "print('Homogeneity of Variance (Levene):')\n",
    "print('Pain Intensity: p = %.4f' %painintensity_var.pvalue)\n",
    "print('Interference (General): p = %.4f' %interference_var.pvalue)\n",
    "print('Interference (Face-Specific): p = %.4f' %specific_var.pvalue)\n",
    "print()\n",
    "\n",
    "\n",
    "# Test for significance\n",
    "painintensity_t, painintensity_p = stats.ttest_ind(painintensity_sui, painintensity_notsui, equal_var=False)\n",
    "interference_t, interference_p = stats.ttest_ind(interference_sui, interference_notsui, equal_var=False)\n",
    "specific_t, specific_p = stats.ttest_ind(specific_sui, specific_notsui, equal_var=False)\n",
    "\n",
    "print('BPI-Facial Scores (Split by C-SRSS):')\n",
    "print('Pain Intensity: %.1f (± %.1f) vs. %.1f (± %.1f), t(%.0f) = %.2f, p = %.4f' %(painintensity_sui.mean(), painintensity_sui.std(), painintensity_notsui.mean(), painintensity_notsui.std(), len(painintensity_sui) + len(painintensity_notsui) - 2, painintensity_t, painintensity_p))\n",
    "print('Interference (General): %.1f (± %.1f) vs. %.1f (± %.1f), t(%.0f) = %.2f, p = %.4f' %(interference_sui.mean(), interference_sui.std(), interference_notsui.mean(), interference_notsui.std(), len(interference_sui) + len(interference_notsui) - 2, interference_t, interference_p))\n",
    "print('Interference (Face-Specific): %.1f (± %.1f) vs. %.1f (± %.1f), t(%.0f) = %.2f, p = %.4f' %(specific_sui.mean(), specific_sui.std(), specific_notsui.mean(), specific_notsui.std(), len(specific_sui) + len(specific_notsui) - 2, specific_t, specific_p))"
   ]
  },
  {
   "cell_type": "markdown",
   "metadata": {},
   "source": [
    "## 3. Machine-Learning Analyses"
   ]
  },
  {
   "cell_type": "code",
   "execution_count": null,
   "metadata": {},
   "outputs": [],
   "source": [
    "# Copy DF and remove rows with missing BPI-Facial data\n",
    "ml_df = df.copy()\n",
    "ml_df = ml_df.drop(amb_df_missing)\n",
    "ml_df['Pain_Intensity'] = ml_df[amb_painintensity].sum(axis=1, skipna=True)\n",
    "ml_df['Interference_General'] = ml_df[amb_interference].sum(axis=1, skipna=True)\n",
    "ml_df['Interference_Face'] = ml_df[amb_specific].sum(axis=1, skipna=True)\n",
    "\n",
    "# Separate categorical and continuous features\n",
    "categorical_features = ['D_GENDER_DESC', 'ICD_TN']\n",
    "continuous_features = ['AGE', 'Pain_Intensity', 'Interference_General', 'Interference_Face']"
   ]
  },
  {
   "cell_type": "markdown",
   "metadata": {},
   "source": [
    "### 3.1 Logistic Regression Classification"
   ]
  },
  {
   "cell_type": "code",
   "execution_count": null,
   "metadata": {},
   "outputs": [],
   "source": [
    "# Separate features and target\n",
    "X = ml_df.drop(columns='CSRSS_Either')\n",
    "y = ml_df['CSRSS_Either']\n",
    "\n",
    "# Preprocessing: one-hot for categoricals, scaling for continuous\n",
    "preprocessor = ColumnTransformer(transformers=[\n",
    "    ('cat', OneHotEncoder(drop='first', handle_unknown='ignore'), categorical_features),\n",
    "    ('num', StandardScaler(), continuous_features)\n",
    "])\n",
    "\n",
    "# Pipeline with SMOTE and Logistic Regression\n",
    "pipeline = ImbPipeline(steps=[\n",
    "    ('preprocess', preprocessor),\n",
    "    ('smote', SMOTE(random_state=0)),\n",
    "    ('logreg', LogisticRegression(class_weight='balanced', solver='liblinear', penalty='l2'))\n",
    "])\n",
    "\n",
    "# Train-test split\n",
    "X = ml_df.drop(columns='CSRSS_Either')\n",
    "y = ml_df['CSRSS_Either']\n",
    "X_train, X_test, y_train, y_test = train_test_split(X, y, stratify=y, test_size=0.3, random_state=0)\n",
    "\n",
    "# Fit model\n",
    "pipeline.fit(X_train, y_train)\n",
    "\n",
    "# Predict probabilities\n",
    "y_proba = pipeline.predict_proba(X_test)[:, 1]\n",
    "y_pred_default = pipeline.predict(X_test)\n",
    "\n",
    "# Report default threshold performance\n",
    "print(\"Classification Report (Default Threshold):\\n\", classification_report(y_test, y_pred_default))\n",
    "scores = cross_val_score(pipeline, X, y, scoring='roc_auc', cv=5)\n",
    "# calculate SE for scores\n",
    "se = scores.std() / (len(scores) ** 0.5)\n",
    "print(f\"Cross-validated ROC AUC: {scores.mean():.2f} ± {se:.2f}\")\n",
    "\n",
    "# Save FPR, TPR, and thresholds for ROC curve\n",
    "fpr, tpr, thresholds = roc_curve(y_test, y_proba)\n",
    "\n",
    "# Get model recall and precision\n",
    "precision_def, recall_def, threshold_def = precision_recall_curve(y_test, y_proba)\n",
    "\n",
    "# Test alternative threshold (0.3)\n",
    "threshold = 0.3\n",
    "y_pred_alt = (y_proba >= threshold).astype(int)\n",
    "print()\n",
    "print(\"Classification Report (Threshold = 0.3):\\n\", classification_report(y_test, y_pred_alt))\n",
    "scores_alt = cross_val_score(pipeline, X, y, scoring='roc_auc', cv=5)\n"
   ]
  },
  {
   "cell_type": "markdown",
   "metadata": {},
   "source": [
    "### 3.2 K-Means Clustering"
   ]
  },
  {
   "cell_type": "code",
   "execution_count": null,
   "metadata": {},
   "outputs": [],
   "source": [
    "# Preprocessing: one-hot for categoricals, scaling for continuous\n",
    "preprocessor = ColumnTransformer([\n",
    "    ('cat', OneHotEncoder(drop='first'), categorical_features),\n",
    "    ('num', StandardScaler(), continuous_features)\n",
    "])\n",
    "\n",
    "# Create a pipeline\n",
    "cluster_pipeline = make_pipeline(preprocessor, KMeans(n_clusters=2, random_state=0))\n",
    "\n",
    "# Fit the model\n",
    "cluster_pipeline.fit(ml_df)\n",
    "\n",
    "# Assign cluster labels\n",
    "cluster_labels = cluster_pipeline.named_steps['kmeans'].labels_\n",
    "ml_df['Cluster'] = cluster_labels\n",
    "ml_df['Cluster'] = ml_df['Cluster'].map(lambda x: 'A' if x == 0 else 'B')\n",
    "\n",
    "# View cluster sizes\n",
    "print(ml_df['Cluster'].value_counts().to_string(), '\\n')\n",
    "\n",
    "# View average feature values per cluster\n",
    "print(ml_df.groupby('Cluster')[['AMB_NSR_R_BRIEF_PAIN_INVENTORY_FACIAL_SCORE']].mean(), '\\n')\n",
    "print(ml_df.groupby('Cluster')[['Pain_Intensity']].mean(), '\\n')\n",
    "print(ml_df.groupby('Cluster')[['Interference_General']].mean(), '\\n')\n",
    "print(ml_df.groupby('Cluster')[['Interference_Face']].mean(), '\\n')\n",
    "\n",
    "# Cross-tab with sex, diagnosis, and suicidal ideation\n",
    "print(pd.crosstab(ml_df['Cluster'], ml_df['D_GENDER_DESC']), '\\n')\n",
    "print(pd.crosstab(ml_df['Cluster'], ml_df['ICD_TN']), '\\n')\n",
    "print(pd.crosstab(ml_df['Cluster'], ml_df['CSRSS_Either']), '\\n')\n",
    "\n",
    "# Get preprocessed data\n",
    "X_transformed = preprocessor.fit_transform(ml_df)\n",
    "\n",
    "# Reduce to 2D for visualization\n",
    "pca = PCA(n_components=2)\n",
    "X_pca = pca.fit_transform(X_transformed)\n",
    "\n",
    "# Incorporate silhoutte analysis by evaluating alternative k values\n",
    "silhouette_scores = []\n",
    "for k in range(2, 11):\n",
    "    kmeans = KMeans(n_clusters=k, random_state=0)\n",
    "    kmeans.fit(X_transformed)\n",
    "    score = silhouette_score(X_transformed, kmeans.labels_)\n",
    "    silhouette_scores.append(score)"
   ]
  },
  {
   "cell_type": "markdown",
   "metadata": {
    "id": "sdcAj6UdxtP5"
   },
   "source": [
    "## 4. Figures"
   ]
  },
  {
   "cell_type": "code",
   "execution_count": null,
   "metadata": {},
   "outputs": [],
   "source": [
    "# Define figure palettes\n",
    "palette_base = sns.color_palette('Spectral', 4)\n",
    "palette_A = palette_base.copy()\n",
    "palette_A.append((0.8, 0.8, 0.8))\n",
    "palette_B = [sns.color_palette('Spectral',6)[-1], sns.color_palette('Spectral',6)[0]]\n",
    "palette_C = [palette_base[0], palette_base[1], palette_base[2]]\n",
    "\n",
    "print('Fig. 1')\n",
    "sns.palplot(palette_A, size = 0.75)\n",
    "sns.palplot(palette_B, size = 0.75)\n",
    "plt.show()\n",
    "\n",
    "# print('Fig. 2X')\n",
    "# sns.palplot(palette_fig2, size = 0.75)"
   ]
  },
  {
   "cell_type": "markdown",
   "metadata": {},
   "source": [
    "### Figure 1: Summary of facial pain etiology and responses to clinical questionnaires."
   ]
  },
  {
   "cell_type": "markdown",
   "metadata": {
    "id": "QN2I0Z3JjY8T"
   },
   "source": [
    "#### Fig. 1A: ICD Diagnosis Counts"
   ]
  },
  {
   "cell_type": "code",
   "execution_count": null,
   "metadata": {
    "colab": {
     "base_uri": "https://localhost:8080/",
     "height": 318
    },
    "id": "SCYTFn5t71Mf",
    "outputId": "6d385b44-1325-4791-a61c-ad9d15c5e019"
   },
   "outputs": [],
   "source": [
    "# Organize data\n",
    "plot_df = df.copy()\n",
    "order = plot_df.groupby('ICD_Clean').size().sort_values(ascending = False).index\n",
    "order = order.tolist()\n",
    "order.remove('Other')\n",
    "order.append('Other')\n",
    "\n",
    "# Plotting\n",
    "fig, ax = plt.subplots(1,1, figsize=(3.5,3))\n",
    "sns.countplot(x = 'ICD_Clean', data = plot_df, hue = 'ICD_Clean', stat = 'percent', order = order, hue_order = order, ax = ax, palette = palette_A, legend = False, saturation = 0.8)\n",
    "# # Add numbers of patients above bars\n",
    "# for p in ax.patches:\n",
    "#     height = p.get_height()\n",
    "#     ax.annotate(f'{int(height)}', (p.get_x() + p.get_width() / 2., height+1), ha='center', va='bottom', fontsize='small', color='k')\n",
    "\n",
    "# Aesthetics\n",
    "plt.setp(ax.patches, linewidth = 1, edgecolor = 'k')\n",
    "sns.despine(top  = True, right = True)\n",
    "plt.xlabel('')\n",
    "plt.ylabel('% Patients', fontsize = 'large', labelpad = 10)\n",
    "plt.suptitle('Etiology', fontsize = 'large', y = 1.05)\n",
    "plt.yticks(np.arange(0, 125, 25), fontsize = 'medium')\n",
    "plt.ylim(0, 100)\n",
    "plt.xticks(fontsize = 'medium')\n",
    "\n",
    "# Export\n",
    "plt.savefig(os.path.join(proj_dir, 'Results', 'ICD_Dx.pdf'), dpi = 1500, bbox_inches = 'tight')\n",
    "plt.savefig(os.path.join(proj_dir, 'Results', 'ICD_Dx.png'), dpi = 1500, bbox_inches = 'tight')\n",
    "plt.show()"
   ]
  },
  {
   "cell_type": "markdown",
   "metadata": {
    "id": "MQn0wskd5uLk"
   },
   "source": [
    "#### Fig. 1B: Columbia-Suicide Severity Rating Scale"
   ]
  },
  {
   "cell_type": "code",
   "execution_count": null,
   "metadata": {},
   "outputs": [],
   "source": [
    "# Plotting\n",
    "fig, ax = plt.subplots(1,1, figsize = (2, 3))\n",
    "sns.countplot(x = 'CSRSS_Either', data = df, ax = ax, hue = 'CSRSS_Either', palette = palette_B, hue_order = [0, 1], saturation=.8, stat = 'percent', width = 0.75, legend = False)\n",
    "\n",
    "# Aesthetics\n",
    "plt.setp(ax.patches, linewidth = 1, edgecolor = 'k')\n",
    "plt.suptitle('Suicidal Ideation\\n(C-SSRS)', fontsize = 'large', y = 1.05)\n",
    "sns.despine(top  = True, right = True)\n",
    "plt.xlabel('')\n",
    "plt.ylabel('% Patients', fontsize = 'large', labelpad = 10)\n",
    "plt.yticks(np.arange(0, 125, 25), fontsize = 'medium')\n",
    "plt.xticks([0,1], ['No', 'Yes'], fontsize = 'medium')\n",
    "plt.xticks(fontsize = 'medium')\n",
    "\n",
    "# Export\n",
    "plt.savefig(os.path.join(proj_dir, 'Results', 'C-SSRS.pdf'), dpi = 1500, bbox_inches = 'tight')\n",
    "plt.savefig(os.path.join(proj_dir, 'Results', 'C-SSRS.png'), dpi = 1500, bbox_inches = 'tight')\n",
    "plt.show()"
   ]
  },
  {
   "cell_type": "markdown",
   "metadata": {
    "id": "I4qGSFNf5m0x"
   },
   "source": [
    "#### Fig. 1C: Brief Pain Inventory-Facial"
   ]
  },
  {
   "cell_type": "code",
   "execution_count": null,
   "metadata": {},
   "outputs": [],
   "source": [
    "fig, axes = plt.subplots(1, 3, figsize = (3.75, 3), sharey = True)\n",
    "sns.barplot(y = amb_painintensity_df, ax = axes[0], palette = palette_B, saturation=0.8, width = 0.75, capsize = 0.1, err_kws={'linewidth': 1.5, 'color': 'k'}, hue = is_sui, legend = False)\n",
    "sns.barplot(y = amb_interference_df, ax = axes[1], palette = palette_B, saturation=0.8, width = 0.75, capsize = 0.1, err_kws={'linewidth': 1.5, 'color': 'k'}, hue = is_sui, legend = False)\n",
    "sns.barplot(y = amb_specific_df, ax = axes[2], palette = palette_B, saturation=0.8, width = 0.75, capsize = 0.1, err_kws={'linewidth': 1.5, 'color': 'k'}, hue = is_sui, legend = True)\n",
    "\n",
    "# Aesthetics\n",
    "for ax in axes:\n",
    "    plt.setp(ax.patches, linewidth = 1, edgecolor = 'k')\n",
    "sns.despine(top  = True, right = True)\n",
    "axes[0].set_xlabel('Pain\\nIntensity', fontsize = 'medium')\n",
    "axes[0].set_ylabel('Mean Score', fontsize = 'large', labelpad = 10)\n",
    "axes[1].set_xlabel('Interference\\n(General)', fontsize = 'medium')\n",
    "axes[2].set_xlabel('Interference\\n(Face-Specific)', fontsize = 'medium')\n",
    "axes[0].set_yticks(np.arange(0, 12, 2), [0, 2, 4, 6, 8, 10], fontsize = 'medium')\n",
    "plt.suptitle('Domain\\n(BPI-Facial)', fontsize = 'large', y = 1.05)\n",
    "\n",
    "# Change legend labels\n",
    "handles, labels = axes[2].get_legend_handles_labels()\n",
    "handles[0].set_facecolor(palette_B[0])\n",
    "handles[1].set_facecolor(palette_B[1])\n",
    "axes[2].legend(handles, ['No', 'Yes'], title = 'Suicidal Ideation', title_fontsize = 'medium', fontsize = 'medium', loc = 'upper right', bbox_to_anchor=(2.75, 1.125))\n",
    "\n",
    "# Export\n",
    "plt.savefig(os.path.join(proj_dir, 'Results', 'BPIxCSRSS.pdf'), dpi = 1500, bbox_inches = 'tight')\n",
    "plt.savefig(os.path.join(proj_dir, 'Results', 'BPIxCSRSS.png'), dpi = 1500, bbox_inches = 'tight')\n",
    "plt.show()"
   ]
  },
  {
   "cell_type": "markdown",
   "metadata": {},
   "source": [
    "### Exploratory"
   ]
  },
  {
   "cell_type": "markdown",
   "metadata": {},
   "source": [
    "#### Logistic Regression"
   ]
  },
  {
   "cell_type": "code",
   "execution_count": null,
   "metadata": {},
   "outputs": [],
   "source": [
    "# Visualize AUC\n",
    "fig, ax = plt.subplots(figsize=(4, 3))\n",
    "ax.plot(fpr, tpr, color=palette_B[1], lw=2, label='Predictive Model\\n(AUC = {:.2f} ± {:.2f})'.format(scores.mean(), se))\n",
    "ax.plot([0, 1], [0, 1], color='k', lw=1, linestyle='--')\n",
    "ax.set_xlabel('False Positive Rate', fontsize='large', labelpad=10)\n",
    "ax.set_ylabel('True Positive Rate', fontsize='large', labelpad=10)\n",
    "# ax.set_title('ROC Curve', fontsize='large')\n",
    "plt.legend(loc='lower right', fontsize='x-small', frameon=False)\n",
    "plt.title('Predictive LR Model', fontsize='x-large', y=1.05)\n",
    "plt.savefig(os.path.join(proj_dir, 'Results', 'LRROC2.pdf'), dpi = 1500, bbox_inches = 'tight')\n",
    "plt.savefig(os.path.join(proj_dir, 'Results', 'LRROC2.png'), dpi = 1500, bbox_inches = 'tight')\n",
    "plt.show()"
   ]
  },
  {
   "cell_type": "code",
   "execution_count": null,
   "metadata": {},
   "outputs": [],
   "source": [
    "model = pipeline.named_steps['logreg']\n",
    "feature_names = pipeline.named_steps['preprocess'].get_feature_names_out()\n",
    "feature_map = {'cat__D_GENDER_DESC_Male': 'Male',\n",
    "                    'cat__ICD_TN_1': 'TN+',\n",
    "                    'num__AGE': 'Age',\n",
    "                    'num__Pain_Intensity': 'Pain Intensity',\n",
    "                    'num__Interference_General': 'Interference\\n(General)',\n",
    "                    'num__Interference_Face': 'Interference\\n(Face-Specific)'}\n",
    "feature_names_clean = [feature_map.get(name, name) for name in feature_names]\n",
    "\n",
    "coef_df = pd.DataFrame({\n",
    "    'Feature': feature_names,\n",
    "    'Feature_Clean': feature_names_clean,\n",
    "    'Coefficient': model.coef_[0]\n",
    "}).sort_values(by='Coefficient', key=abs, ascending=False)\n",
    "\n",
    "# Plot\n",
    "plt.figure(figsize=(4, 3))\n",
    "sns.barplot(data = coef_df, x='Feature_Clean', y='Coefficient', color = palette_B[1])\n",
    "plt.axhline(0, color='k', linestyle='-', linewidth=1)\n",
    "\n",
    "# Aesthetics\n",
    "# plt.title('Logistic Regression Coefficients')\n",
    "plt.xticks(coef_df['Feature_Clean'], rotation=45, ha='right', fontsize='small')\n",
    "plt.yticks([-1.5, -0.75, 0, 0.75, 1.5], fontsize='small')\n",
    "plt.xlabel('')\n",
    "plt.ylabel('Coefficient', fontsize='large', labelpad=10)\n",
    "sns.despine(top=True, right=True)\n",
    "plt.tight_layout()\n",
    "\n",
    "plt.savefig(os.path.join(proj_dir, 'Results', 'LRCoefs.pdf'), dpi = 1500, bbox_inches = 'tight')\n",
    "plt.savefig(os.path.join(proj_dir, 'Results', 'LfCoefs.png'), dpi = 1500, bbox_inches = 'tight')\n",
    "plt.show()\n",
    "\n",
    "# Display coefficients\n",
    "print(coef_df[['Feature_Clean', 'Coefficient']].to_string(index=False))"
   ]
  },
  {
   "cell_type": "markdown",
   "metadata": {},
   "source": [
    "#### 2D PCA of K-Means Clustering Results"
   ]
  },
  {
   "cell_type": "code",
   "execution_count": null,
   "metadata": {},
   "outputs": [],
   "source": [
    "# Plotting\n",
    "fig, axes = plt.subplots(1, 2, figsize=(6, 2), sharey= True)\n",
    "fig.subplots_adjust(wspace=0.125)\n",
    "\n",
    "sns.scatterplot(x=X_pca[:, 0], y=X_pca[:, 1], hue=ml_df['Cluster'], style = ml_df['Cluster'], palette='Set2', ax = axes[0], alpha=0.7, legend = False)\n",
    "sns.scatterplot(x=X_pca[:, 0], y=X_pca[:, 1], hue=ml_df['CSRSS_Either'], style = ml_df['Cluster'], palette=palette_B, ax = axes[1], alpha=0.7, legend = False)\n",
    "\n",
    "# Aesthetics\n",
    "axes[0].set_title('Patient Clusters')\n",
    "axes[1].set_title('C-SSRS')\n",
    "\n",
    "for ax in fig.axes:\n",
    "    ax.set_xlabel('PC1', fontsize = 'large', labelpad = 10)\n",
    "    ax.set_ylabel('PC2', fontsize = 'large', labelpad = 10)\n",
    "    ax.set_xticks(np.arange(-3, 4.5, 1.5), ['-3', '-1.5', '0', '1.5', '3'], fontsize = 'medium')\n",
    "    ax.set_yticks(np.arange(-3, 4.5, 1.5), ['-3', '-1.5', '0', '1.5', '3'], fontsize = 'medium')\n",
    "    sns.despine(ax=ax, top=True, right=True)\n",
    "    \n",
    "# Update legend\n",
    "labels = ['No', 'Yes']\n",
    "handles = [Rectangle((0,0), 1, 1, color=palette_B[0]), Rectangle((0,0), 1, 1, color=palette_B[1])]\n",
    "axes[1].legend(handles, labels, title = 'Suicidal Ideation', title_fontsize = 'small', fontsize = 'small', loc = 'upper right', bbox_to_anchor=(1.5, 1.125))\n",
    "\n",
    "# Export\n",
    "plt.savefig(os.path.join(proj_dir, 'Results', 'CSRSS_Clusters.pdf'), dpi = 1500, bbox_inches = 'tight')\n",
    "plt.savefig(os.path.join(proj_dir, 'Results', 'CSRSS_Clusters.png'), dpi = 1500, bbox_inches = 'tight')\n",
    "plt.show()"
   ]
  }
 ],
 "metadata": {
  "colab": {
   "provenance": []
  },
  "kernelspec": {
   "display_name": "mne",
   "language": "python",
   "name": "python3"
  },
  "language_info": {
   "codemirror_mode": {
    "name": "ipython",
    "version": 3
   },
   "file_extension": ".py",
   "mimetype": "text/x-python",
   "name": "python",
   "nbconvert_exporter": "python",
   "pygments_lexer": "ipython3",
   "version": "3.12.10"
  }
 },
 "nbformat": 4,
 "nbformat_minor": 0
}
